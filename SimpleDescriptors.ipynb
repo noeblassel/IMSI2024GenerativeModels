{
 "cells": [
  {
   "cell_type": "code",
   "execution_count": 105,
   "metadata": {},
   "outputs": [],
   "source": [
    "import numpy as np\n",
    "import matplotlib.pyplot as plt\n",
    "from lammps import lammps \n",
    "\n",
    "\n",
    "class SimpleLammps():\n",
    "    def __init__(self,N_D=55):\n",
    "        self.N_D = N_D\n",
    "        self.L = lammps(cmdargs=['-log','none','-screen','none'])\n",
    "        \"\"\" \n",
    "            SUPER SIMPLE- MAKE A VACANCY THEN MOVE IT\n",
    "        \"\"\" \n",
    "        self.L.commands_string(f\"\"\"\n",
    "            units metal\n",
    "            atom_style atomic\n",
    "            atom_modify map array sort 0 0.0\n",
    "            dimension 3\n",
    "            timestep 0.001\n",
    "            boundary p p p\n",
    "            \n",
    "            lattice bcc 3.18\n",
    "            region C block 0 3 0 3 0 3 units lattice\n",
    "            region mid block 2.4 2.6 2.4 2.6 2.4 2.6 units lattice\n",
    "            create_box 1 C\n",
    "            create_atoms 1 region C\n",
    "            group mid region mid\n",
    "            delete_atoms group mid\n",
    "            \n",
    "            mass * 184.0\n",
    "            pair_style snap\n",
    "            pair_coeff * * W.snapcoeff W.snapparam W\n",
    "            \n",
    "            fix seal all nve\n",
    "            minimize  0 0 100 100\n",
    "            write_data initial.dat\n",
    "\n",
    "            compute dD all snad/atom 4.7 0.99363 8 0.5 1\n",
    "            compute D all sna/atom 4.7 0.99363 8 0.5 1\n",
    "            run 0\n",
    "        \"\"\")\n",
    "        self.D_i = self.get_D()\n",
    "        self.X_i = self.get_X()\n",
    "        self.N = self.X_i.shape[0]\n",
    "        self.W_i = np.diag(1.0/np.sqrt(0.01+(L.get_D()**2).mean(0)))/self.N\n",
    "\n",
    "        self.L.commands_string(\"\"\" \n",
    "            region sel block 2.9 3.1 2.9 3.1 2.9 3.1 units lattice\n",
    "            group sel region sel\n",
    "            displace_atoms sel move -0.5 -0.5 -0.5 units lattice\n",
    "            minimize 0 0 100 100\n",
    "            write_data final.dat\n",
    "        \"\"\")\n",
    "        self.D_f = self.get_D()\n",
    "        self.X_f = self.get_X()\n",
    "        print(\"In final vacancy configuration\")\n",
    "\n",
    "    def get_D(self):\n",
    "        return np.ctypeslib.as_array(\n",
    "            self.L.gather(\"c_D\",1,self.N_D)).reshape((-1,self.N_D))\n",
    "\n",
    "    def get_dD(self):\n",
    "        \"\"\" snad/atom returns negative gradient !\"\"\"\n",
    "        return -np.ctypeslib.as_array(\n",
    "            self.L.gather(\"c_dD\",1,3*self.N_D)).reshape((-1,3,self.N_D))\n",
    "\n",
    "    def get_X(self):\n",
    "        return np.ctypeslib.as_array(\n",
    "            self.L.gather(\"x\",1,3)).reshape((-1,3))\n",
    "    \n",
    "    def set_X(self,X):\n",
    "        self.L.scatter(\"x\",1,3,np.ctypeslib.as_ctypes(X.flatten()))\n",
    "        self.L.command(\"run 0\")\n",
    "\n",
    "    def get_loss(self,W=None,Di=None):\n",
    "        if W is None:\n",
    "            W = self.W_i\n",
    "        if Di is None:\n",
    "            Di = self.D_i\n",
    "        D_diff = self.get_D()-Di\n",
    "        return 0.5 * np.sum(D_diff@W * D_diff)\n",
    "        \n",
    "    def get_loss_grad_X(self,W=None,Di=None):\n",
    "        \"\"\" \n",
    "            d/dX [D(X)-D_i].W.[D(X)-D_i]/2\n",
    "            =\n",
    "            dD(X).W.[]\n",
    "        \"\"\" \n",
    "        if W is None:\n",
    "            W = self.W_i\n",
    "        if Di is None:\n",
    "            Di = self.D_i\n",
    "        dX = np.einsum('ijk,ik->ij',self.get_dD(),(self.get_D()-Di)@W)\n",
    "        dX -= dX.mean(0)[None,:]\n",
    "        return dX\n",
    "    \n",
    "    def euler_steps(self,X,n=5,dt=0.005,W=None,Di=None):\n",
    "        if W is None:\n",
    "            W = self.W_i\n",
    "        if Di is None:\n",
    "            Di = self.D_i\n",
    "        \n",
    "        # to initial point\n",
    "        self.set_X(X)\n",
    "        X_i = X.copy()\n",
    "        for step in range(n): \n",
    "            X = L.get_X()  \n",
    "            dX = self.get_loss_grad_X(W,Di)\n",
    "            self.set_X(X-dX*dt)\n",
    "            \n",
    "            print(self.get_loss())\n",
    "        \n",
    "        return X_i,self.get_X(),dX\n"
   ]
  },
  {
   "cell_type": "code",
   "execution_count": 106,
   "metadata": {},
   "outputs": [
    {
     "name": "stdout",
     "output_type": "stream",
     "text": [
      "In final vacancy configuration\n",
      "6.043097082414482\n",
      "6.002971826115061\n",
      "5.978129200687947\n",
      "5.961679244294471\n",
      "5.94857286525191\n"
     ]
    },
    {
     "data": {
      "text/plain": [
       "<matplotlib.collections.PathCollection at 0x13d4ef190>"
      ]
     },
     "execution_count": 106,
     "metadata": {},
     "output_type": "execute_result"
    },
    {
     "data": {
      "image/png": "[encoded data removed]",
      "text/plain": [
       "<Figure size 640x480 with 1 Axes>"
      ]
     },
     "metadata": {},
     "output_type": "display_data"
    }
   ],
   "source": [
    "L = SimpleLammps()\n",
    "X_i,X_f,dX=L.euler_steps(L.X_f)\n",
    "\n",
    "D = L.get_D()\n",
    "D -= D.mean(0)[None,:] # mean over box\n",
    "plt.ylabel(\"|dX| per atom\")\n",
    "plt.xlabel(\"|D-mean(D)| per atom\")\n",
    "# expect |D|>0 for atoms where |dX| is small as they can be next to moving atoms\n",
    "# i.e. points in bottom right but not top left\n",
    "plt.scatter(np.linalg.norm(D,axis=1),np.linalg.norm(dX,axis=1))\n"
   ]
  },
  {
   "cell_type": "code",
   "execution_count": null,
   "metadata": {},
   "outputs": [],
   "source": []
  }
 ],
 "metadata": {
  "kernelspec": {
   "display_name": "jax-md",
   "language": "python",
   "name": "python3"
  },
  "language_info": {
   "codemirror_mode": {
    "name": "ipython",
    "version": 3
   },
   "file_extension": ".py",
   "mimetype": "text/x-python",
   "name": "python",
   "nbconvert_exporter": "python",
   "pygments_lexer": "ipython3",
   "version": "3.11.0"
  },
  "orig_nbformat": 4
 },
 "nbformat": 4,
 "nbformat_minor": 2
}
